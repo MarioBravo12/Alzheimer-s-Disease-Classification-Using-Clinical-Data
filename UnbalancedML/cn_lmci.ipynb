{
  "cells": [
    {
      "cell_type": "code",
      "source": [
        "pip install tensorflow==2.12.0"
      ],
      "metadata": {
        "id": "o3Q7B3uFGLmz",
        "colab": {
          "base_uri": "https://localhost:8080/"
        },
        "outputId": "f5e0d9fa-8ef7-4ff2-be8c-c0867b8f7fd0"
      },
      "id": "o3Q7B3uFGLmz",
      "execution_count": null,
      "outputs": [
        {
          "output_type": "stream",
          "name": "stdout",
          "text": [
            "Requirement already satisfied: tensorflow==2.12.0 in /usr/local/lib/python3.10/dist-packages (2.12.0)\n",
            "Requirement already satisfied: absl-py>=1.0.0 in /usr/local/lib/python3.10/dist-packages (from tensorflow==2.12.0) (1.4.0)\n",
            "Requirement already satisfied: astunparse>=1.6.0 in /usr/local/lib/python3.10/dist-packages (from tensorflow==2.12.0) (1.6.3)\n",
            "Requirement already satisfied: flatbuffers>=2.0 in /usr/local/lib/python3.10/dist-packages (from tensorflow==2.12.0) (23.5.26)\n",
            "Requirement already satisfied: gast<=0.4.0,>=0.2.1 in /usr/local/lib/python3.10/dist-packages (from tensorflow==2.12.0) (0.4.0)\n",
            "Requirement already satisfied: google-pasta>=0.1.1 in /usr/local/lib/python3.10/dist-packages (from tensorflow==2.12.0) (0.2.0)\n",
            "Requirement already satisfied: grpcio<2.0,>=1.24.3 in /usr/local/lib/python3.10/dist-packages (from tensorflow==2.12.0) (1.59.0)\n",
            "Requirement already satisfied: h5py>=2.9.0 in /usr/local/lib/python3.10/dist-packages (from tensorflow==2.12.0) (3.9.0)\n",
            "Requirement already satisfied: jax>=0.3.15 in /usr/local/lib/python3.10/dist-packages (from tensorflow==2.12.0) (0.4.16)\n",
            "Requirement already satisfied: keras<2.13,>=2.12.0 in /usr/local/lib/python3.10/dist-packages (from tensorflow==2.12.0) (2.12.0)\n",
            "Requirement already satisfied: libclang>=13.0.0 in /usr/local/lib/python3.10/dist-packages (from tensorflow==2.12.0) (16.0.6)\n",
            "Requirement already satisfied: numpy<1.24,>=1.22 in /usr/local/lib/python3.10/dist-packages (from tensorflow==2.12.0) (1.23.5)\n",
            "Requirement already satisfied: opt-einsum>=2.3.2 in /usr/local/lib/python3.10/dist-packages (from tensorflow==2.12.0) (3.3.0)\n",
            "Requirement already satisfied: packaging in /usr/local/lib/python3.10/dist-packages (from tensorflow==2.12.0) (23.2)\n",
            "Requirement already satisfied: protobuf!=4.21.0,!=4.21.1,!=4.21.2,!=4.21.3,!=4.21.4,!=4.21.5,<5.0.0dev,>=3.20.3 in /usr/local/lib/python3.10/dist-packages (from tensorflow==2.12.0) (3.20.3)\n",
            "Requirement already satisfied: setuptools in /usr/local/lib/python3.10/dist-packages (from tensorflow==2.12.0) (67.7.2)\n",
            "Requirement already satisfied: six>=1.12.0 in /usr/local/lib/python3.10/dist-packages (from tensorflow==2.12.0) (1.16.0)\n",
            "Requirement already satisfied: tensorboard<2.13,>=2.12 in /usr/local/lib/python3.10/dist-packages (from tensorflow==2.12.0) (2.12.3)\n",
            "Requirement already satisfied: tensorflow-estimator<2.13,>=2.12.0 in /usr/local/lib/python3.10/dist-packages (from tensorflow==2.12.0) (2.12.0)\n",
            "Requirement already satisfied: termcolor>=1.1.0 in /usr/local/lib/python3.10/dist-packages (from tensorflow==2.12.0) (2.3.0)\n",
            "Requirement already satisfied: typing-extensions>=3.6.6 in /usr/local/lib/python3.10/dist-packages (from tensorflow==2.12.0) (4.5.0)\n",
            "Requirement already satisfied: wrapt<1.15,>=1.11.0 in /usr/local/lib/python3.10/dist-packages (from tensorflow==2.12.0) (1.14.1)\n",
            "Requirement already satisfied: tensorflow-io-gcs-filesystem>=0.23.1 in /usr/local/lib/python3.10/dist-packages (from tensorflow==2.12.0) (0.34.0)\n",
            "Requirement already satisfied: wheel<1.0,>=0.23.0 in /usr/local/lib/python3.10/dist-packages (from astunparse>=1.6.0->tensorflow==2.12.0) (0.41.2)\n",
            "Requirement already satisfied: ml-dtypes>=0.2.0 in /usr/local/lib/python3.10/dist-packages (from jax>=0.3.15->tensorflow==2.12.0) (0.3.1)\n",
            "Requirement already satisfied: scipy>=1.7 in /usr/local/lib/python3.10/dist-packages (from jax>=0.3.15->tensorflow==2.12.0) (1.11.3)\n",
            "Requirement already satisfied: google-auth<3,>=1.6.3 in /usr/local/lib/python3.10/dist-packages (from tensorboard<2.13,>=2.12->tensorflow==2.12.0) (2.17.3)\n",
            "Requirement already satisfied: google-auth-oauthlib<1.1,>=0.5 in /usr/local/lib/python3.10/dist-packages (from tensorboard<2.13,>=2.12->tensorflow==2.12.0) (1.0.0)\n",
            "Requirement already satisfied: markdown>=2.6.8 in /usr/local/lib/python3.10/dist-packages (from tensorboard<2.13,>=2.12->tensorflow==2.12.0) (3.5)\n",
            "Requirement already satisfied: requests<3,>=2.21.0 in /usr/local/lib/python3.10/dist-packages (from tensorboard<2.13,>=2.12->tensorflow==2.12.0) (2.31.0)\n",
            "Requirement already satisfied: tensorboard-data-server<0.8.0,>=0.7.0 in /usr/local/lib/python3.10/dist-packages (from tensorboard<2.13,>=2.12->tensorflow==2.12.0) (0.7.1)\n",
            "Requirement already satisfied: werkzeug>=1.0.1 in /usr/local/lib/python3.10/dist-packages (from tensorboard<2.13,>=2.12->tensorflow==2.12.0) (3.0.0)\n",
            "Requirement already satisfied: cachetools<6.0,>=2.0.0 in /usr/local/lib/python3.10/dist-packages (from google-auth<3,>=1.6.3->tensorboard<2.13,>=2.12->tensorflow==2.12.0) (5.3.1)\n",
            "Requirement already satisfied: pyasn1-modules>=0.2.1 in /usr/local/lib/python3.10/dist-packages (from google-auth<3,>=1.6.3->tensorboard<2.13,>=2.12->tensorflow==2.12.0) (0.3.0)\n",
            "Requirement already satisfied: rsa<5,>=3.1.4 in /usr/local/lib/python3.10/dist-packages (from google-auth<3,>=1.6.3->tensorboard<2.13,>=2.12->tensorflow==2.12.0) (4.9)\n",
            "Requirement already satisfied: requests-oauthlib>=0.7.0 in /usr/local/lib/python3.10/dist-packages (from google-auth-oauthlib<1.1,>=0.5->tensorboard<2.13,>=2.12->tensorflow==2.12.0) (1.3.1)\n",
            "Requirement already satisfied: charset-normalizer<4,>=2 in /usr/local/lib/python3.10/dist-packages (from requests<3,>=2.21.0->tensorboard<2.13,>=2.12->tensorflow==2.12.0) (3.3.0)\n",
            "Requirement already satisfied: idna<4,>=2.5 in /usr/local/lib/python3.10/dist-packages (from requests<3,>=2.21.0->tensorboard<2.13,>=2.12->tensorflow==2.12.0) (3.4)\n",
            "Requirement already satisfied: urllib3<3,>=1.21.1 in /usr/local/lib/python3.10/dist-packages (from requests<3,>=2.21.0->tensorboard<2.13,>=2.12->tensorflow==2.12.0) (2.0.7)\n",
            "Requirement already satisfied: certifi>=2017.4.17 in /usr/local/lib/python3.10/dist-packages (from requests<3,>=2.21.0->tensorboard<2.13,>=2.12->tensorflow==2.12.0) (2023.7.22)\n",
            "Requirement already satisfied: MarkupSafe>=2.1.1 in /usr/local/lib/python3.10/dist-packages (from werkzeug>=1.0.1->tensorboard<2.13,>=2.12->tensorflow==2.12.0) (2.1.3)\n",
            "Requirement already satisfied: pyasn1<0.6.0,>=0.4.6 in /usr/local/lib/python3.10/dist-packages (from pyasn1-modules>=0.2.1->google-auth<3,>=1.6.3->tensorboard<2.13,>=2.12->tensorflow==2.12.0) (0.5.0)\n",
            "Requirement already satisfied: oauthlib>=3.0.0 in /usr/local/lib/python3.10/dist-packages (from requests-oauthlib>=0.7.0->google-auth-oauthlib<1.1,>=0.5->tensorboard<2.13,>=2.12->tensorflow==2.12.0) (3.2.2)\n"
          ]
        }
      ]
    },
    {
      "cell_type": "code",
      "execution_count": null,
      "id": "ac2bb2aa",
      "metadata": {
        "id": "ac2bb2aa"
      },
      "outputs": [],
      "source": [
        "# libraries\n",
        "import os\n",
        "import pandas as pd\n",
        "import numpy as np\n",
        "import seaborn as sns\n",
        "from sklearn.model_selection import train_test_split\n",
        "from sklearn.preprocessing import StandardScaler\n",
        "from sklearn.base import BaseEstimator\n",
        "import time\n",
        "\n",
        "#Visualizers\n",
        "from yellowbrick.classifier import ClassificationReport\n",
        "from yellowbrick.classifier import ClassPredictionError\n",
        "from yellowbrick.classifier import ConfusionMatrix\n",
        "from yellowbrick.classifier import ROCAUC\n",
        "from yellowbrick.classifier import PrecisionRecallCurve\n",
        "import matplotlib.pyplot as plt\n",
        "\n",
        "#Metrics\n",
        "from sklearn.metrics import accuracy_score\n",
        "from sklearn.metrics import cohen_kappa_score\n",
        "from sklearn.metrics import hamming_loss\n",
        "from sklearn.metrics import log_loss\n",
        "from sklearn.metrics import zero_one_loss\n",
        "from sklearn.metrics import matthews_corrcoef\n",
        "from sklearn.metrics import classification_report\n",
        "\n",
        "#Classifiers\n",
        "from sklearn.neighbors import KNeighborsClassifier\n",
        "from sklearn.linear_model import LogisticRegression\n",
        "from sklearn.ensemble import RandomForestClassifier\n",
        "from sklearn import svm\n",
        "from sklearn.ensemble import ExtraTreesClassifier\n",
        "from sklearn.ensemble import GradientBoostingClassifier\n",
        "from sklearn.neural_network import MLPClassifier\n",
        "from sklearn.tree import DecisionTreeClassifier\n",
        "from sklearn.linear_model import SGDClassifier\n",
        "\n",
        "#Neural Network\n",
        "from tensorflow.keras.layers import Input\n",
        "from tensorflow.keras.layers import Dense,LSTM\n",
        "from tensorflow.keras.layers import Conv1D\n",
        "from tensorflow.keras.models import Model\n",
        "from tensorflow.keras.optimizers import Adam\n",
        "from tensorflow.keras.optimizers import RMSprop\n",
        "from tensorflow.keras.utils import to_categorical\n",
        "from tensorflow.keras.wrappers.scikit_learn import KerasClassifier\n",
        "from tensorflow.keras.layers import Lambda, Layer, ReLU\n",
        "from keras.models import load_model\n",
        "import tensorflow as tf\n",
        "from tensorflow.keras.losses import sparse_categorical_crossentropy\n",
        "from tensorflow.keras.layers import BatchNormalization\n",
        "from tensorflow.keras.layers import Conv1D, GlobalMaxPooling1D,Concatenate\n",
        "\n",
        "import warnings\n",
        "warnings.filterwarnings('ignore')"
      ]
    },
    {
      "cell_type": "code",
      "source": [
        "from google.colab import drive\n",
        "drive.mount('/content/drive')"
      ],
      "metadata": {
        "id": "M-JkK3VbSaJn",
        "colab": {
          "base_uri": "https://localhost:8080/"
        },
        "outputId": "aa5bf112-3512-4a96-de0b-6c2a13b77c3f"
      },
      "id": "M-JkK3VbSaJn",
      "execution_count": null,
      "outputs": [
        {
          "output_type": "stream",
          "name": "stdout",
          "text": [
            "Drive already mounted at /content/drive; to attempt to forcibly remount, call drive.mount(\"/content/drive\", force_remount=True).\n"
          ]
        }
      ]
    },
    {
      "cell_type": "code",
      "execution_count": null,
      "id": "420ccfaf",
      "metadata": {
        "id": "420ccfaf"
      },
      "outputs": [],
      "source": [
        "data_path6 = '/content/drive/MyDrive/AlzheimerCodesDatosPlanos/BasesDeDatos/ADNI/ADNIMERGE.csv'\n",
        "figures_path = './figures'"
      ]
    },
    {
      "cell_type": "code",
      "execution_count": null,
      "id": "f234f573",
      "metadata": {
        "id": "f234f573"
      },
      "outputs": [],
      "source": [
        "Data = pd.read_csv(data_path6)"
      ]
    },
    {
      "cell_type": "code",
      "execution_count": null,
      "id": "086a5add",
      "metadata": {
        "id": "086a5add"
      },
      "outputs": [],
      "source": [
        "df=Data[[\"AGE\",\"PTGENDER\",\"PTEDUCAT\", \"PTMARRY\",\"APOE4\",\n",
        "        \"ADAS11\",\"ADAS13\",\"ADASQ4\",\"MMSE\",\"FAQ\", \"MOCA\",\n",
        "        \"CDRSB\",\"RAVLT_immediate\",\"RAVLT_learning\",\"RAVLT_forgetting\",\n",
        "        \"RAVLT_perc_forgetting\",\"LDELTOTAL\", \"TRABSCOR\",\"mPACCdigit\"\n",
        "        ,\"mPACCtrailsB\",\"Ventricles\", \"Hippocampus\",\"WholeBrain\", \"Entorhinal\",\n",
        "        \"Fusiform\", \"MidTemp\", \"ICV\",\"DX_bl\"]]"
      ]
    },
    {
      "cell_type": "code",
      "execution_count": null,
      "id": "3443f7b6",
      "metadata": {
        "id": "3443f7b6"
      },
      "outputs": [],
      "source": [
        "from sklearn.preprocessing import LabelEncoder"
      ]
    },
    {
      "cell_type": "code",
      "source": [
        "LabelEncoder_1=LabelEncoder()\n",
        "df[\"PTGENDER\"]=LabelEncoder_1.fit_transform(df[\"PTGENDER\"])\n",
        "LabelEncoder_1=LabelEncoder()\n",
        "df[\"PTMARRY\"]=LabelEncoder_1.fit_transform(df[\"PTMARRY\"])"
      ],
      "metadata": {
        "id": "N0kDCtnvSia-"
      },
      "id": "N0kDCtnvSia-",
      "execution_count": null,
      "outputs": []
    },
    {
      "cell_type": "code",
      "source": [
        "df=df.dropna()"
      ],
      "metadata": {
        "id": "ci7rVr29Sjw_"
      },
      "id": "ci7rVr29Sjw_",
      "execution_count": null,
      "outputs": []
    },
    {
      "cell_type": "code",
      "source": [
        "df.drop(df[df['DX_bl']==\"SMC\"].index,inplace=True)\n",
        "df.drop(df[df['DX_bl']==\"AD\"].index,inplace=True)\n",
        "df.drop(df[df['DX_bl']==\"EMCI\"].index,inplace=True)"
      ],
      "metadata": {
        "id": "m4Vin0TrSl9E"
      },
      "id": "m4Vin0TrSl9E",
      "execution_count": null,
      "outputs": []
    },
    {
      "cell_type": "code",
      "execution_count": null,
      "id": "208dd654",
      "metadata": {
        "id": "208dd654",
        "colab": {
          "base_uri": "https://localhost:8080/"
        },
        "outputId": "0dca52df-fe46-47da-aa68-35ed85de709b"
      },
      "outputs": [
        {
          "output_type": "stream",
          "name": "stdout",
          "text": [
            "Features shape: (1028, 27)\n",
            "Labels shape: (1028,)\n"
          ]
        }
      ],
      "source": [
        "Labels = df['DX_bl'].values\n",
        "Features = df.drop(['DX_bl'],axis=1).values\n",
        "\n",
        "\n",
        "print('Features shape:', Features.shape)\n",
        "print('Labels shape:', Labels.shape)\n",
        "from sklearn.utils.multiclass import type_of_target\n",
        "\n"
      ]
    },
    {
      "cell_type": "code",
      "source": [
        "for i in range(len(Labels)):\n",
        "  if Labels[i]==\"LMCI\":\n",
        "    Labels[i]=0\n",
        "  if Labels[i]==\"CN\":\n",
        "    Labels[i]=1"
      ],
      "metadata": {
        "id": "q6HlUaeXSpZu"
      },
      "id": "q6HlUaeXSpZu",
      "execution_count": null,
      "outputs": []
    },
    {
      "cell_type": "code",
      "source": [
        "Labels= Labels[:].astype(int)"
      ],
      "metadata": {
        "id": "Z7sfbH9W3ICo"
      },
      "id": "Z7sfbH9W3ICo",
      "execution_count": null,
      "outputs": []
    },
    {
      "cell_type": "code",
      "execution_count": null,
      "id": "c0de2a9f",
      "metadata": {
        "id": "c0de2a9f"
      },
      "outputs": [],
      "source": [
        "#Write function for class-centric metrics\n",
        "# Classification report\n",
        "def CR_viz():\n",
        "    def Class_report(model,classes):\n",
        "        visualizer = ClassificationReport(model, classes=classes, support=True)\n",
        "        train_start_time = time.time()\n",
        "        visualizer.fit(X_train, y_train)  # Fit the visualizer and the model\n",
        "        print(f'Train runtime: {time.time()-train_start_time}')\n",
        "        test_start_time = time.time()\n",
        "        visualizer.score(X_test, y_test)  # Evaluate the model on the test data\n",
        "        print(f'Test runtime: {time.time()-test_start_time}')\n",
        "        return visualizer.poof()\n",
        "    for name, classifier in zip(names, classifiers):\n",
        "        fig, ax = plt.subplots(nrows=1, ncols=1 )\n",
        "        Class_report(classifier,classes)\n",
        "        #fig.savefig(figures_path+\"/\"+str(len(classes))+\"FP/\"+name+\"_CR.pdf\")\n",
        "\n",
        "#Class Prediction Error\n",
        "def CPE_viz():\n",
        "    def CPE(model,classes):\n",
        "        visualizer = ClassPredictionError(model, classes=classes)\n",
        "        visualizer.fit(X_train, y_train)  # Fit the visualizer and the model\n",
        "        visualizer.score(X_test, y_test)  # Evaluate the model on the test data\n",
        "        return visualizer.poof()\n",
        "    for name, classifier in zip(names, classifiers):\n",
        "        fig, ax = plt.subplots(nrows=1, ncols=1 )\n",
        "        CPE(classifier,classes)\n",
        "        #fig.savefig(figures_path+\"/\"+str(len(classes))+\"FP/\"+name+\"_CPE.pdf\")\n",
        "\n",
        "#Confusion matrix\n",
        "def CM_viz():\n",
        "    def CM(model,classes):\n",
        "        visualizer = ConfusionMatrix(model, classes=classes, percent=True)\n",
        "        visualizer.fit(X_train, y_train)  # Fit the visualizer and the model\n",
        "        visualizer.score(X_test, y_test)  # Evaluate the model on the test data\n",
        "        return visualizer.poof()\n",
        "    for name, classifier in zip(names, classifiers):\n",
        "        fig, ax = plt.subplots(nrows=1, ncols=1 )\n",
        "        CM(classifier,classes)\n",
        "        #fig.savefig(figures_path+\"/\"+str(len(classes))+\"FP/\"+name+\"_CM.pdf\")\n",
        "\n",
        "#ROC-AUC\n",
        "def ROC_viz():\n",
        "    def ROC(model,classes):\n",
        "        visualizer = ROCAUC(model, classes=classes)\n",
        "        visualizer.fit(X_train, y_train)  # Fit the visualizer and the model\n",
        "        visualizer.score(X_test, y_test)  # Evaluate the model on the test data\n",
        "        return visualizer.poof()\n",
        "    for name, classifier in zip(names, classifiers):\n",
        "        fig, ax = plt.subplots(nrows=1, ncols=1 )\n",
        "        ROC(classifier,classes)\n",
        "        #fig.savefig(figures_path+\"/\"+str(len(classes))+\"FP/\"+name+\"_ROC.pdf\")\n",
        "\n",
        "#Precision Recall Curve\n",
        "def PRC_viz():\n",
        "    def PRC(model,classes):\n",
        "        visualizer = PrecisionRecallCurve(model,classes=classes, per_class=True, iso_f1_curves=False,\n",
        "    fill_area=False, micro=False)\n",
        "        visualizer.fit(X_train, y_train)  # Fit the visualizer and the model\n",
        "        visualizer.score(X_test, y_test)  # Evaluate the model on the test data\n",
        "        return visualizer.poof()\n",
        "    for name, classifier in zip(names, classifiers):\n",
        "        fig, ax = plt.subplots(nrows=1, ncols=1 )\n",
        "        PRC(classifier,classes)\n",
        "        #fig.savefig(figures_path+\"/\"+str(len(classes))+\"FP/\"+name+\"_PRC.pdf\")"
      ]
    },
    {
      "cell_type": "code",
      "execution_count": null,
      "id": "c1c3eb97",
      "metadata": {
        "id": "c1c3eb97"
      },
      "outputs": [],
      "source": [
        "# Write function for aggregate metrics\n",
        "def classifier_metrics():\n",
        "    def metrics(model):\n",
        "        #     model=model_name()\n",
        "        model.fit(X_train, y_train)  # Fit the visualizer and the model\n",
        "        y_pred = model.predict(X_test)\n",
        "        try:\n",
        "            y_prob = model.predict_proba(X_test)\n",
        "            log_metric = log_loss(y_test,y_prob)\n",
        "        except:\n",
        "            y_prob = \"Not probablistic\"\n",
        "            log_metric = 0\n",
        "        else:\n",
        "            y_pred = model.predict(X_test)\n",
        "\n",
        "        acc_score=accuracy_score(y_test,y_pred)\n",
        "        clc=classification_report(y_test, y_pred,labels=[1, 2, 3],digits=4)\n",
        "\n",
        "        print(clc)\n",
        "        print('accuracy_score: {0:.4f}'.format(acc_score))\n",
        "    for name in classifiers:\n",
        "        print (str(name))\n",
        "        metrics(name)\n",
        "        print()\n",
        "        print (\"---------------------------------------------------------------------------------\")"
      ]
    },
    {
      "cell_type": "code",
      "execution_count": null,
      "id": "78ca05e9",
      "metadata": {
        "colab": {
          "base_uri": "https://localhost:8080/"
        },
        "id": "78ca05e9",
        "outputId": "7476d346-2f58-4fe5-af73-5b50492495a8"
      },
      "outputs": [
        {
          "output_type": "stream",
          "name": "stdout",
          "text": [
            "Train data shape: (822, 27)\n",
            "Train labels shape: (822,)\n",
            "Test data shape: (206, 27)\n",
            "Test labels shape: (206,)\n"
          ]
        }
      ],
      "source": [
        "X_train, X_test, y_train, y_test = train_test_split(Features, Labels, test_size=0.2, stratify=Labels, random_state=42)\n",
        "\n",
        "print('Train data shape:', X_train.shape)\n",
        "print('Train labels shape:', y_train.shape)\n",
        "print('Test data shape:', X_test.shape)\n",
        "print('Test labels shape:', y_test.shape)"
      ]
    },
    {
      "cell_type": "code",
      "execution_count": null,
      "id": "771a2234",
      "metadata": {
        "id": "771a2234"
      },
      "outputs": [],
      "source": [
        "scaler = StandardScaler().fit(X_train)\n",
        "\n",
        "X_train = scaler.transform(X_train)\n",
        "X_test = scaler.transform(X_test)"
      ]
    },
    {
      "cell_type": "code",
      "execution_count": null,
      "id": "8aefd654",
      "metadata": {
        "id": "8aefd654"
      },
      "outputs": [],
      "source": [
        "#classes\n",
        "classes = [0, 1]"
      ]
    },
    {
      "cell_type": "code",
      "source": [
        "# select classifiers\n",
        "classifiers=[\n",
        "DecisionTreeClassifier(criterion= 'gini',max_depth= 5, min_samples_leaf= 1, min_samples_split=5),\n",
        "MLPClassifier(activation='relu', hidden_layer_sizes=(100, 50), learning_rate= 'constant', solver= 'adam'),\n",
        "KNeighborsClassifier(algorithm='auto', leaf_size= 1, n_neighbors= 1, p= 1, weights= 'uniform'),\n",
        "SGDClassifier(alpha=0.01, loss= 'log', max_iter=3000, penalty='l1'),\n",
        "ExtraTreesClassifier(max_depth=20,n_estimators=200,min_samples_split=2, random_state=50),\n",
        "svm.SVC(C=10, gamma= 'scale', kernel= 'rbf'),\n",
        "RandomForestClassifier(max_depth= None, min_samples_split= 4, n_estimators=300, random_state=30),\n",
        "GradientBoostingClassifier(learning_rate= 0.1, max_depth=7, n_estimators=200, random_state= 50),\n",
        "]\n",
        "\n",
        "names=['ET', 'SVM', 'RF','GB','DCT', 'MLP', 'KN','SGD']"
      ],
      "metadata": {
        "id": "0foIUdaMBHMz"
      },
      "id": "0foIUdaMBHMz",
      "execution_count": null,
      "outputs": []
    },
    {
      "cell_type": "code",
      "source": [
        "classifier_metrics()"
      ],
      "metadata": {
        "id": "zEm1csU-JyxC",
        "colab": {
          "base_uri": "https://localhost:8080/"
        },
        "outputId": "3927f2bb-6a35-4484-bd5d-a2f73aeaec11"
      },
      "id": "zEm1csU-JyxC",
      "execution_count": null,
      "outputs": [
        {
          "output_type": "stream",
          "name": "stdout",
          "text": [
            "DecisionTreeClassifier(max_depth=5, min_samples_split=5)\n",
            "              precision    recall  f1-score   support\n",
            "\n",
            "           1     0.9043    0.8889    0.8966       117\n",
            "           2     0.0000    0.0000    0.0000         0\n",
            "           3     0.0000    0.0000    0.0000         0\n",
            "\n",
            "   micro avg     0.9043    0.8889    0.8966       117\n",
            "   macro avg     0.3014    0.2963    0.2989       117\n",
            "weighted avg     0.9043    0.8889    0.8966       117\n",
            "\n",
            "accuracy_score: 0.8835\n",
            "\n",
            "---------------------------------------------------------------------------------\n",
            "MLPClassifier(hidden_layer_sizes=(100, 50))\n",
            "              precision    recall  f1-score   support\n",
            "\n",
            "           1     0.9298    0.9060    0.9177       117\n",
            "           2     0.0000    0.0000    0.0000         0\n",
            "           3     0.0000    0.0000    0.0000         0\n",
            "\n",
            "   micro avg     0.9298    0.9060    0.9177       117\n",
            "   macro avg     0.3099    0.3020    0.3059       117\n",
            "weighted avg     0.9298    0.9060    0.9177       117\n",
            "\n",
            "accuracy_score: 0.9078\n",
            "\n",
            "---------------------------------------------------------------------------------\n",
            "KNeighborsClassifier(leaf_size=1, n_neighbors=1, p=1)\n",
            "              precision    recall  f1-score   support\n",
            "\n",
            "           1     0.9500    0.9744    0.9620       117\n",
            "           2     0.0000    0.0000    0.0000         0\n",
            "           3     0.0000    0.0000    0.0000         0\n",
            "\n",
            "   micro avg     0.9500    0.9744    0.9620       117\n",
            "   macro avg     0.3167    0.3248    0.3207       117\n",
            "weighted avg     0.9500    0.9744    0.9620       117\n",
            "\n",
            "accuracy_score: 0.9563\n",
            "\n",
            "---------------------------------------------------------------------------------\n",
            "SGDClassifier(alpha=0.01, loss='log', max_iter=3000, penalty='l1')\n",
            "              precision    recall  f1-score   support\n",
            "\n",
            "           1     0.8750    0.9573    0.9143       117\n",
            "           2     0.0000    0.0000    0.0000         0\n",
            "           3     0.0000    0.0000    0.0000         0\n",
            "\n",
            "   micro avg     0.8750    0.9573    0.9143       117\n",
            "   macro avg     0.2917    0.3191    0.3048       117\n",
            "weighted avg     0.8750    0.9573    0.9143       117\n",
            "\n",
            "accuracy_score: 0.8981\n",
            "\n",
            "---------------------------------------------------------------------------------\n",
            "ExtraTreesClassifier(max_depth=20, n_estimators=200, random_state=50)\n",
            "              precision    recall  f1-score   support\n",
            "\n",
            "           1     0.9483    0.9402    0.9442       117\n",
            "           2     0.0000    0.0000    0.0000         0\n",
            "           3     0.0000    0.0000    0.0000         0\n",
            "\n",
            "   micro avg     0.9483    0.9402    0.9442       117\n",
            "   macro avg     0.3161    0.3134    0.3147       117\n",
            "weighted avg     0.9483    0.9402    0.9442       117\n",
            "\n",
            "accuracy_score: 0.9369\n",
            "\n",
            "---------------------------------------------------------------------------------\n",
            "SVC(C=10)\n",
            "              precision    recall  f1-score   support\n",
            "\n",
            "           1     0.9407    0.9487    0.9447       117\n",
            "           2     0.0000    0.0000    0.0000         0\n",
            "           3     0.0000    0.0000    0.0000         0\n",
            "\n",
            "   micro avg     0.9407    0.9487    0.9447       117\n",
            "   macro avg     0.3136    0.3162    0.3149       117\n",
            "weighted avg     0.9407    0.9487    0.9447       117\n",
            "\n",
            "accuracy_score: 0.9369\n",
            "\n",
            "---------------------------------------------------------------------------------\n",
            "RandomForestClassifier(min_samples_split=4, n_estimators=300, random_state=30)\n",
            "              precision    recall  f1-score   support\n",
            "\n",
            "           1     0.9565    0.9402    0.9483       117\n",
            "           2     0.0000    0.0000    0.0000         0\n",
            "           3     0.0000    0.0000    0.0000         0\n",
            "\n",
            "   micro avg     0.9565    0.9402    0.9483       117\n",
            "   macro avg     0.3188    0.3134    0.3161       117\n",
            "weighted avg     0.9565    0.9402    0.9483       117\n",
            "\n",
            "accuracy_score: 0.9417\n",
            "\n",
            "---------------------------------------------------------------------------------\n",
            "GradientBoostingClassifier(max_depth=7, n_estimators=200, random_state=50)\n",
            "              precision    recall  f1-score   support\n",
            "\n",
            "           1     0.9550    0.9060    0.9298       117\n",
            "           2     0.0000    0.0000    0.0000         0\n",
            "           3     0.0000    0.0000    0.0000         0\n",
            "\n",
            "   micro avg     0.9550    0.9060    0.9298       117\n",
            "   macro avg     0.3183    0.3020    0.3099       117\n",
            "weighted avg     0.9550    0.9060    0.9298       117\n",
            "\n",
            "accuracy_score: 0.9223\n",
            "\n",
            "---------------------------------------------------------------------------------\n"
          ]
        }
      ]
    },
    {
      "cell_type": "code",
      "source": [
        "from sklearn.model_selection import cross_val_score\n",
        "from sklearn.model_selection import KFold\n",
        "\n",
        "# select classifiers\n",
        "classifiers=[\n",
        "DecisionTreeClassifier(criterion= 'gini',max_depth= 5, min_samples_leaf= 1, min_samples_split=5),\n",
        "MLPClassifier(activation='relu', hidden_layer_sizes=(100, 50), learning_rate= 'constant', solver= 'adam'),\n",
        "KNeighborsClassifier(algorithm='auto', leaf_size= 1, n_neighbors= 1, p= 1, weights= 'uniform'),\n",
        "SGDClassifier(alpha=0.01, loss= 'log', max_iter=3000, penalty='l1'),\n",
        "ExtraTreesClassifier(max_depth=20,n_estimators=200,min_samples_split=2, random_state=50),\n",
        "svm.SVC(C=10, gamma= 'scale', kernel= 'rbf'),\n",
        "RandomForestClassifier(max_depth= None, min_samples_split= 4, n_estimators=300, random_state=30),\n",
        "GradientBoostingClassifier(learning_rate= 0.1, max_depth=7, n_estimators=200, random_state= 50),\n",
        "]\n",
        "\n",
        "names=['DT', 'MLP', 'KN','SGD','ET', 'SVC', 'RF','GB']\n",
        "\n",
        "\n",
        "for i in range(len(classifiers)):\n",
        "  print(names[i])\n",
        "  kf = KFold(n_splits=10, shuffle=True, random_state=42)\n",
        "\n",
        "  # Realiza la validación cruzada y obtén las puntuaciones de rendimiento\n",
        "  puntuaciones = cross_val_score(classifiers[i], X_train, y_train, cv=kf)\n",
        "  desviacion_estandar = np.std(puntuaciones)\n",
        "\n",
        "  # Imprime las puntuaciones de rendimiento\n",
        "  #print(\"Puntuaciones de rendimiento: \", puntuaciones)\n",
        "  print(\"Puntuación media: \", np.mean(puntuaciones))\n",
        "  print(\"Desviación estándar: \", desviacion_estandar)"
      ],
      "metadata": {
        "colab": {
          "base_uri": "https://localhost:8080/"
        },
        "id": "M70WgkvX2R0i",
        "outputId": "0576f764-0d52-4000-c734-985d4203057d"
      },
      "id": "M70WgkvX2R0i",
      "execution_count": null,
      "outputs": [
        {
          "output_type": "stream",
          "name": "stdout",
          "text": [
            "DT\n",
            "Puntuación media:  0.9050690567146635\n",
            "Desviación estándar:  0.028860231104943068\n",
            "MLP\n",
            "Puntuación media:  0.89653247134881\n",
            "Desviación estándar:  0.020777760273229386\n",
            "KN\n",
            "Puntuación media:  0.9245371730825742\n",
            "Desviación estándar:  0.03733049200226163\n",
            "SGD\n",
            "Puntuación media:  0.892903320599471\n",
            "Desviación estándar:  0.03312576612676781\n",
            "ET\n",
            "Puntuación media:  0.9184689979429915\n",
            "Desviación estándar:  0.02730159649266143\n",
            "SVC\n",
            "Puntuación media:  0.9135909491625037\n",
            "Desviación estándar:  0.01856645979660301\n",
            "RF\n",
            "Puntuación media:  0.9233029679694388\n",
            "Desviación estándar:  0.023293349812454234\n",
            "GB\n",
            "Puntuación media:  0.9184543050249779\n",
            "Desviación estándar:  0.03189744179576364\n"
          ]
        }
      ]
    }
  ],
  "metadata": {
    "kernelspec": {
      "display_name": "Python 3",
      "name": "python3"
    },
    "language_info": {
      "codemirror_mode": {
        "name": "ipython",
        "version": 3
      },
      "file_extension": ".py",
      "mimetype": "text/x-python",
      "name": "python",
      "nbconvert_exporter": "python",
      "pygments_lexer": "ipython3",
      "version": "3.9.13"
    },
    "colab": {
      "provenance": []
    }
  },
  "nbformat": 4,
  "nbformat_minor": 5
}